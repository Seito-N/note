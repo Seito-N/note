{
 "cells": [
  {
   "cell_type": "code",
   "execution_count": null,
   "id": "fb4eaffb",
   "metadata": {},
   "outputs": [],
   "source": []
  }
 ],
 "metadata": {
  "language_info": {
   "name": "plaintext"
  }
 },
 "nbformat": 4,
 "nbformat_minor": 5
}
